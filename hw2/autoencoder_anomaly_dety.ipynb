{
 "cells": [
  {
   "cell_type": "markdown",
   "id": "dc57dfd9-585e-4b7b-939d-66c90e468e55",
   "metadata": {},
   "source": [
    "# Постановка задачи"
   ]
  },
  {
   "cell_type": "markdown",
   "id": "5a09587b-c5c1-4f71-b7d2-b290aeb7e796",
   "metadata": {},
   "source": [
    "Имеются изображения технологического процесса разлива металлических циллиндров. Есть риск нарушения технологии, когда стенки цилиндра не успевают застывать и трескаются. Не застывшый металл выливается, не образуя требуюмую заготовку. Необходимо оперативно определить лунку где произошел пролив. При этом пролив дольно редкое явление. Гораздо больше изображений можно собрать без пролива в лунке.\n",
    "\n",
    "## Задача: построить модель (на основе автоэнкодера) определяющую состояние лунки пролив\\не пролив.\n",
    "\n",
    "title\n",
    "\n",
    "Датесет\n",
    "Данные - вырезанные изображения лунок. Ссыла на даасет\n",
    "\n",
    "dataset\n",
    "```\n",
    "├── proliv  # изображения с проливами\n",
    "|       ├── 000.jpg\n",
    "│       ├── 001.jpg\n",
    "│       │   └── ...\n",
    "|\n",
    "├── test  # тестовая выборка где перемешаны проливы и не_проливы\n",
    "│       ├── imgs\n",
    "│       │   ├── 000.jpg\n",
    "│       │   ├── 001.jpg\n",
    "│       │   └── ...\n",
    "│       └── test_annotation.txt\n",
    "|\n",
    "├── train  #  обучающая выборка из не_проливов\n",
    "|       ├── 000.jpg\n",
    "│       ├── 001.jpg\n",
    "│       └── ...\n",
    "```\n",
    "## План решения\n",
    "- Имплементировать или найти автоэкодер (можно для старта взять пример из лекции по автоэнкодерам)\n",
    "- Обучаем автоэнкодер на не_проливах (dataset\\train)\n",
    "- Если через такой автоэнкодер прогнать изображение пролива, то MSE между входным изображением и выходным будет больше, чем если прогнать изображение без пролива. Следовательно, если определить некторое пороговое значение MSE, можно классифицировать изображение на классы пролив\\не_пролив. Если MSE между входной картинкой и выходной больше фиксированного порога, то на изображении пролив.\n",
    "- В качестве loss функции используем MSE (как минимум для baseline)\n",
    "- Для определения порога используем изображения из dataset\\proliv\n",
    "- Пишем метод классификации лунок\n",
    "- На изображениях из dataset\\test тестируем качество. Считаем True_positive_rate и True_negative_rate.\n",
    "- Цель: получить на тесте максимизаровать метрики True_positive_rate и True_negative_rate (получить более 91% по каждой)\n"
   ]
  },
  {
   "cell_type": "markdown",
   "id": "cb33a769-1dfc-4458-a955-e1fd35282741",
   "metadata": {},
   "source": [
    "# Imports"
   ]
  },
  {
   "cell_type": "code",
   "execution_count": 1,
   "id": "5d5c7cba-7586-4d99-921f-21eb7717fe98",
   "metadata": {},
   "outputs": [],
   "source": [
    "import os\n",
    "os.environ['CUDA_VISIBLE_DEVICES'] = '3'\n",
    "os.environ['CUDA_DEVICE_ORDER'] = 'PCI_BUS_ID'"
   ]
  },
  {
   "cell_type": "code",
   "execution_count": 2,
   "id": "3cffa241-f0a8-44f1-b37f-5fc3b467b573",
   "metadata": {},
   "outputs": [],
   "source": [
    "import torch\n",
    "import torchvision\n",
    "import torchvision.transforms as transforms\n",
    "from torch.utils.data import DataLoader, Dataset\n",
    "\n",
    "import torch.nn as nn\n",
    "import torch.nn.functional as F"
   ]
  },
  {
   "cell_type": "code",
   "execution_count": 3,
   "id": "7fd776ab-a13c-4b97-b9ed-5ca33ce083a9",
   "metadata": {},
   "outputs": [],
   "source": [
    "import lightning as L\n",
    "from lightning.pytorch.loggers import TensorBoardLogger\n",
    "from lightning.pytorch.callbacks import EarlyStopping, Callback\n",
    "\n",
    "\n",
    "import pandas as pd\n",
    "import numpy as np\n",
    "import matplotlib.pyplot as plt\n",
    "import cv2\n",
    "from sklearn.model_selection import train_test_split\n",
    "from sklearn.metrics import roc_curve, auc, accuracy_score, confusion_matrix"
   ]
  },
  {
   "cell_type": "code",
   "execution_count": 4,
   "id": "4bd30945-47cf-43a9-be21-aef1374acace",
   "metadata": {},
   "outputs": [],
   "source": [
    "import matplotlib.patches as patches\n",
    "from torchvision.transforms import ToPILImage\n",
    "from PIL import Image"
   ]
  },
  {
   "cell_type": "code",
   "execution_count": 5,
   "id": "41a7b01b-1fdb-4865-a8b0-d1f177789356",
   "metadata": {},
   "outputs": [],
   "source": [
    "from glob import glob"
   ]
  },
  {
   "cell_type": "code",
   "execution_count": 6,
   "id": "2d50c7f2-009c-4ac8-b3cd-9d5007759b13",
   "metadata": {},
   "outputs": [],
   "source": [
    "np.seed = 42\n",
    "torch.seed = 42"
   ]
  },
  {
   "cell_type": "markdown",
   "id": "8d0d3e22-8982-4a7f-83aa-f40c690282bb",
   "metadata": {},
   "source": [
    "# Data"
   ]
  },
  {
   "cell_type": "markdown",
   "id": "e869e71f-e584-4fe7-a02b-c66f4248848a",
   "metadata": {},
   "source": [
    "## utils"
   ]
  },
  {
   "cell_type": "code",
   "execution_count": 7,
   "id": "da5ad1f6-ff60-41a4-a266-c81ea56a81bb",
   "metadata": {},
   "outputs": [],
   "source": [
    "batch_size = 256\n",
    "num_workers = 6"
   ]
  },
  {
   "cell_type": "code",
   "execution_count": 8,
   "id": "4a11f7c3-0e6a-4983-9377-24c2fd5eb292",
   "metadata": {},
   "outputs": [],
   "source": [
    "paths = glob('../data/dataset/train/*')"
   ]
  },
  {
   "cell_type": "code",
   "execution_count": 9,
   "id": "2c95bfea-9b50-4907-8d4c-62ba24f3aeb2",
   "metadata": {},
   "outputs": [],
   "source": [
    "def cacl_meta(paths: list[str]):\n",
    "    shapes = []\n",
    "    values = []\n",
    "    for path in paths:\n",
    "        img = cv2.imread(path)\n",
    "        shapes.append(img.shape)\n",
    "        values.append(img.mean((0, 1)))\n",
    "    print(f\"px mean: {np.mean(values, 0)}\")\n",
    "    print(f\"px std{np.std(values, 0)}\")\n",
    "    print(f\"hw mean: {np.mean(shapes, 0)}\")\n",
    "    print(f\"hw std: {np.std(shapes, 0)}\")\n",
    "    print(f\"hw max: {np.max(shapes, 0)}\")"
   ]
  },
  {
   "cell_type": "code",
   "execution_count": 10,
   "id": "490fb32e-1309-4fc2-8c09-67b6ef3a43ee",
   "metadata": {},
   "outputs": [
    {
     "name": "stdout",
     "output_type": "stream",
     "text": [
      "px mean: [117.82115343 136.21627219 107.96166175]\n",
      "px std[5.52291506 5.73441297 4.60631175]\n",
      "hw mean: [27.2345 48.2663  3.    ]\n",
      "hw std: [1.82765143 1.52117859 0.        ]\n",
      "hw max: [40 57  3]\n"
     ]
    }
   ],
   "source": [
    "cacl_meta(paths)"
   ]
  },
  {
   "cell_type": "code",
   "execution_count": 11,
   "id": "578a8d65-3af1-4328-ac81-2358b810bc7e",
   "metadata": {},
   "outputs": [
    {
     "name": "stdout",
     "output_type": "stream",
     "text": [
      "px mean: [121.69297908 136.76800765 108.14422379]\n",
      "px std[2.28159659 3.02662478 2.63439014]\n",
      "hw mean: [28.30519481 48.96753247  3.        ]\n",
      "hw std: [0.53849142 0.71549484 0.        ]\n",
      "hw max: [30 51  3]\n"
     ]
    }
   ],
   "source": [
    "cacl_meta(glob('../data/dataset/proliv/*'))"
   ]
  },
  {
   "cell_type": "code",
   "execution_count": 12,
   "id": "54447bfc-9cf8-4df2-9e73-a9339e87ce4a",
   "metadata": {},
   "outputs": [
    {
     "name": "stdout",
     "output_type": "stream",
     "text": [
      "px mean: [117.66760402 137.31084869 108.96859242]\n",
      "px std[7.45812867 7.91534315 6.19017037]\n",
      "hw mean: [28.77148129 49.83052188  3.        ]\n",
      "hw std: [2.64679087 2.2472396  0.        ]\n",
      "hw max: [40 72  3]\n"
     ]
    }
   ],
   "source": [
    "cacl_meta(glob('../data/dataset/test/imgs/*.jpg'))"
   ]
  },
  {
   "cell_type": "code",
   "execution_count": 13,
   "id": "b84495db-5635-4309-a12a-df794e82cd1a",
   "metadata": {},
   "outputs": [],
   "source": [
    "SHAPE = (64, 64)"
   ]
  },
  {
   "cell_type": "code",
   "execution_count": 16,
   "id": "0b2811e6-8958-4714-b0a0-b60c10d8f41e",
   "metadata": {},
   "outputs": [],
   "source": [
    "# попробуем 0-1 нормализацию\n",
    "train_transforms = transforms.Compose([\n",
    "    transforms.Resize(SHAPE),\n",
    "    transforms.RandomHorizontalFlip(), \n",
    "    transforms.RandomVerticalFlip(),\n",
    "    transforms.ColorJitter(brightness=0.2, contrast=0.2, saturation=0.2, hue=0.1),\n",
    "    transforms.ToTensor(),\n",
    "    transforms.Normalize(mean=0, std=1),\n",
    "    AddGaussianNoise(0, 0.01),\n",
    "])\n",
    "\n",
    "val_transforms = transforms.Compose([\n",
    "    transforms.Resize(SHAPE),\n",
    "    transforms.ToTensor(),\n",
    "    transforms.Normalize(mean=0, std=1),\n",
    "])"
   ]
  },
  {
   "cell_type": "code",
   "execution_count": 17,
   "id": "1087ec0c-14cd-4357-b98f-6de9db74f397",
   "metadata": {},
   "outputs": [],
   "source": [
    "class AnomalyDataset(Dataset):\n",
    "    def __init__(self, paths: list[str], transforms: transforms.Compose):\n",
    "        self.paths = paths\n",
    "        self.transforms = transforms\n",
    "        \n",
    "    def __len__(self):\n",
    "        return len(self.paths)\n",
    "\n",
    "    def __getitem__(self, i):\n",
    "        img = Image.open(self.paths[i]).convert('L')\n",
    "        tensor = self.transforms(img)\n",
    "        return tensor\n",
    "        "
   ]
  },
  {
   "cell_type": "code",
   "execution_count": 18,
   "id": "308452cf-bff0-45fa-92f6-068672753bd7",
   "metadata": {},
   "outputs": [],
   "source": [
    "test_fnames = []\n",
    "gt_labels = []\n",
    "with open('../data/dataset/test/test_annotation.txt', 'r') as f:\n",
    "    for line in f.readlines():\n",
    "        fname, label = line.split()\n",
    "        test_fnames.append(f\"../data/dataset/test/imgs/{fname}\")\n",
    "        gt_labels.append(int(label))"
   ]
  },
  {
   "cell_type": "code",
   "execution_count": 19,
   "id": "5af2dd52-3672-442e-a90c-abe3f55cecef",
   "metadata": {},
   "outputs": [],
   "source": [
    "class TestAnomalyDataset(Dataset):\n",
    "    def __init__(self, paths: list[str], labels: list[int], transforms: transforms.Compose):\n",
    "        self.paths = paths\n",
    "        self.labels = labels\n",
    "        self.transforms = transforms\n",
    "        \n",
    "    def __len__(self):\n",
    "        return len(self.paths)\n",
    "\n",
    "    def __getitem__(self, i):\n",
    "        img = Image.open(self.paths[i]).convert('L')\n",
    "        label = self.labels[i]\n",
    "        tensor = self.transforms(img)\n",
    "        return tensor, label"
   ]
  },
  {
   "cell_type": "code",
   "execution_count": 20,
   "id": "9d94f81b-07da-4c73-8afe-79231b11c96b",
   "metadata": {},
   "outputs": [],
   "source": [
    "train_paths, val_paths = train_test_split(paths, test_size=0.1, random_state=111111)"
   ]
  },
  {
   "cell_type": "code",
   "execution_count": 21,
   "id": "6bf706cf-717a-4ade-b5da-0c045962b75b",
   "metadata": {},
   "outputs": [],
   "source": [
    "train_set = AnomalyDataset(train_paths, train_transforms)\n",
    "val_set = AnomalyDataset(val_paths, val_transforms)\n",
    "test_set = TestAnomalyDataset(test_fnames, gt_labels, val_transforms)"
   ]
  },
  {
   "cell_type": "code",
   "execution_count": 22,
   "id": "dbfaa53c-1880-4494-8364-93da79957a07",
   "metadata": {},
   "outputs": [],
   "source": [
    "train_loader = DataLoader(train_set, batch_size=batch_size, num_workers=num_workers, shuffle=True)\n",
    "val_loader = DataLoader(val_set, batch_size=batch_size, num_workers=num_workers, shuffle=False)\n",
    "test_loader = DataLoader(test_set, batch_size=batch_size, num_workers=num_workers, shuffle=False)"
   ]
  },
  {
   "cell_type": "code",
   "execution_count": 23,
   "id": "4fbb894e-bc37-457d-9f02-7cb6fe6b394d",
   "metadata": {},
   "outputs": [],
   "source": [
    "proliv_dataset = AnomalyDataset(glob('../data/dataset/proliv/*.jpg'), val_transforms)\n",
    "proliv_loader = DataLoader(proliv_dataset, batch_size=batch_size, num_workers=num_workers, shuffle=False)"
   ]
  },
  {
   "cell_type": "code",
   "execution_count": 24,
   "id": "e5529016-173e-4605-9211-20f033b24825",
   "metadata": {
    "scrolled": true
   },
   "outputs": [],
   "source": [
    "for images in train_loader:\n",
    "    break"
   ]
  },
  {
   "cell_type": "code",
   "execution_count": 25,
   "id": "5b0c5ff7-fd11-40c9-b4f1-4a76cfdc0e5e",
   "metadata": {},
   "outputs": [
    {
     "data": {
      "text/plain": [
       "<matplotlib.image.AxesImage at 0x7fdc934f9570>"
      ]
     },
     "execution_count": 25,
     "metadata": {},
     "output_type": "execute_result"
    },
    {
     "data": {
      "image/png": "[encoded data removed]",
      "text/plain": [
       "<Figure size 640x480 with 1 Axes>"
      ]
     },
     "metadata": {},
     "output_type": "display_data"
    }
   ],
   "source": [
    "plt.imshow(images[0][0])"
   ]
  },
  {
   "cell_type": "code",
   "execution_count": 26,
   "id": "07538270-4336-4ac7-9efd-b32dbe767d3a",
   "metadata": {},
   "outputs": [],
   "source": [
    "for images in proliv_loader:\n",
    "    break"
   ]
  },
  {
   "cell_type": "code",
   "execution_count": 27,
   "id": "dd6b7311-b696-4560-b17c-04390f5ea25c",
   "metadata": {},
   "outputs": [
    {
     "data": {
      "text/plain": [
       "<matplotlib.image.AxesImage at 0x7fdc92fef010>"
      ]
     },
     "execution_count": 27,
     "metadata": {},
     "output_type": "execute_result"
    },
    {
     "data": {
      "image/png": "[encoded data removed]",
      "text/plain": [
       "<Figure size 640x480 with 1 Axes>"
      ]
     },
     "metadata": {},
     "output_type": "display_data"
    }
   ],
   "source": [
    "plt.imshow(images[0][0])"
   ]
  },
  {
   "cell_type": "code",
   "execution_count": 28,
   "id": "ee880dbc-f62e-48bc-8ce9-182c3a36c429",
   "metadata": {},
   "outputs": [],
   "source": [
    "for images, labels in test_loader:\n",
    "    break"
   ]
  },
  {
   "cell_type": "code",
   "execution_count": 29,
   "id": "729efbee-21e8-4f26-b3be-28fc6c6c8b39",
   "metadata": {
    "scrolled": true
   },
   "outputs": [
    {
     "data": {
      "text/plain": [
       "<matplotlib.image.AxesImage at 0x7fddeccb9fc0>"
      ]
     },
     "execution_count": 29,
     "metadata": {},
     "output_type": "execute_result"
    },
    {
     "data": {
      "image/png": "[encoded data removed]",
      "text/plain": [
       "<Figure size 640x480 with 1 Axes>"
      ]
     },
     "metadata": {},
     "output_type": "display_data"
    }
   ],
   "source": [
    "plt.imshow(images[labels==1][0][0])"
   ]
  },
  {
   "cell_type": "markdown",
   "id": "da2fdfb5-7b0e-49bf-b291-9045c72901fd",
   "metadata": {},
   "source": [
    "# Model"
   ]
  },
  {
   "cell_type": "markdown",
   "id": "087bd2fa-413e-4f73-89d8-11ab8f084d60",
   "metadata": {},
   "source": [
    "## Simple autoencoder"
   ]
  },
  {
   "cell_type": "markdown",
   "id": "a0d0304f-0752-4098-bbb2-6be4bd5b5978",
   "metadata": {},
   "source": [
    "### Encoder"
   ]
  },
  {
   "cell_type": "code",
   "execution_count": 31,
   "id": "ba921834-f344-4e4e-af09-d7dbaf849522",
   "metadata": {},
   "outputs": [],
   "source": [
    "class GatedConv2d(nn.Module):\n",
    "    def __init__(self, in_channels, out_channels, kernel_size, stride, padding, bias=True):\n",
    "        super(GatedConv2d, self).__init__()\n",
    "        self.conv = nn.Conv2d(in_channels, out_channels, kernel_size, stride=stride, padding=padding, bias=bias)\n",
    "        self.gate_conv = nn.Conv2d(in_channels, out_channels, kernel_size, stride=stride, padding=padding, bias=bias)\n",
    "        self.sigmoid = nn.Sigmoid()\n",
    "\n",
    "    def forward(self, x):\n",
    "        return self.conv(x) * self.sigmoid(self.gate_conv(x))"
   ]
  },
  {
   "cell_type": "code",
   "execution_count": 32,
   "id": "d303da83-9f37-498f-8132-33ae438707af",
   "metadata": {},
   "outputs": [],
   "source": [
    "class GatedEncoder(nn.Module):\n",
    "    def __init__(self):\n",
    "        super(GatedEncoder, self).__init__()\n",
    "        self.encoder = nn.Sequential(\n",
    "            GatedConv2d(1, 16, 3, stride=2, padding=1),\n",
    "            nn.BatchNorm2d(16),\n",
    "            \n",
    "            GatedConv2d(16, 32, 3, stride=2, padding=1),\n",
    "            nn.BatchNorm2d(32),\n",
    "        )\n",
    "\n",
    "    def forward(self, x):\n",
    "        return self.encoder(x)"
   ]
  },
  {
   "cell_type": "code",
   "execution_count": 96,
   "id": "e2e82928-93ab-4448-9737-a72f9123feef",
   "metadata": {},
   "outputs": [],
   "source": [
    "class Decoder(nn.Module):\n",
    "    def __init__(self):\n",
    "        super(Decoder, self).__init__()\n",
    "        self.decoder = nn.Sequential(\n",
    "            nn.ConvTranspose2d(32, 16, 2, stride=2),\n",
    "            nn.BatchNorm2d(16),\n",
    "            nn.ReLU(inplace=True),\n",
    "\n",
    "            nn.ConvTranspose2d(16, 1, 2, stride=2),\n",
    "            nn.BatchNorm2d(1),\n",
    "            nn.Sigmoid()\n",
    "        )\n",
    "\n",
    "    def forward(self, x):\n",
    "        return self.decoder(x)"
   ]
  },
  {
   "cell_type": "code",
   "execution_count": 97,
   "id": "dab6859e-33c5-4d26-bfd5-9d970d667fb4",
   "metadata": {
    "scrolled": true
   },
   "outputs": [
    {
     "name": "stdout",
     "output_type": "stream",
     "text": [
      "torch.Size([154, 32, 16, 16])\n",
      "torch.Size([154, 1, 64, 64])\n"
     ]
    }
   ],
   "source": [
    "encoder = GatedEncoder()\n",
    "decoder = Decoder()\n",
    "z = encoder(images)\n",
    "print(z.shape)\n",
    "out = decoder(z)\n",
    "print(out.shape)\n",
    "assert out.shape == images.shape"
   ]
  },
  {
   "cell_type": "code",
   "execution_count": 98,
   "id": "6a77b9bc-c28b-4958-ba0b-e4943ccd3011",
   "metadata": {},
   "outputs": [],
   "source": [
    "class Autoencoder(nn.Module):\n",
    "    def __init__(self, encoder, decoder):\n",
    "        super(Autoencoder, self).__init__()\n",
    "        self.encoder = encoder\n",
    "        self.decoder = decoder\n",
    "    def forward(self, x):\n",
    "        x = self.encoder(x)\n",
    "        x = self.decoder(x)\n",
    "        return x"
   ]
  },
  {
   "cell_type": "code",
   "execution_count": 100,
   "id": "be74edbc-f690-4e67-b6e3-ef6a583bdbb5",
   "metadata": {},
   "outputs": [],
   "source": [
    "# оставлю на память\n",
    "# class VAE(nn.Module):\n",
    "#     def __init__(self):\n",
    "#         super(VAE, self).__init__()\n",
    "\n",
    "#         self.encoder = Encoder(latent_dim)\n",
    "\n",
    "#         self.fc_mu = nn.Linear(latent_dim, latent_dim)\n",
    "#         self.fc_logvar = nn.Linear(latent_dim, latent_dim)\n",
    "\n",
    "#         self.decoder = Decoder(latent_dim)\n",
    "\n",
    "#     def encode(self, x):\n",
    "#         z = self.encoder(x)\n",
    "#         return self.fc_mu(z), self.fc_logvar(z)\n",
    "\n",
    "#     def reparameterize(self, mu, logvar):\n",
    "#         std = torch.exp(0.5 * logvar)\n",
    "#         eps = torch.randn_like(std)\n",
    "#         return mu + eps * std\n",
    "\n",
    "\n",
    "#     def forward(self, x):\n",
    "#         mu, logvar = self.encode(x)\n",
    "#         z = self.reparameterize(mu, logvar)\n",
    "#         return self.decoder(z), mu, logvar\n",
    "\n",
    "# class LModuleVAE(L.LightningModule):\n",
    "#     def __init__(self, model: nn.Module):\n",
    "#         super(LModuleVAE, self).__init__()\n",
    "#         self.model = model\n",
    "\n",
    "#     def forward(self, x):\n",
    "#         recon_x, _, _ = self.model(x)\n",
    "#         return recon_x\n",
    "\n",
    "#     def training_step(self, images, batch_idx):\n",
    "#         recon_images, mu, logvar = self.model(images)\n",
    "#         loss = self.vae_loss(recon_images, images, mu, logvar)\n",
    "#         self.log('loss/train', loss)\n",
    "#         return loss\n",
    "\n",
    "#     def validation_step(self, images, batch_idx):\n",
    "#         recon_images, mu, logvar = self.model(images)\n",
    "#         loss = self.vae_loss(recon_images, images, mu, logvar)\n",
    "#         self.log('loss/val', loss)\n",
    "\n",
    "#     def configure_optimizers(self):\n",
    "#         return torch.optim.AdamW(self.parameters(), lr=3e-4)\n",
    "\n",
    "#     def vae_loss(self, recon_x, x, mu, logvar):\n",
    "#         # Реконструкционная потеря\n",
    "#         mse = F.mse_loss(recon_x, x, reduction='sum')\n",
    "#         # KL дивергенция\n",
    "#         kl_div = -0.5 * torch.sum(1 + logvar - mu.pow(2) - logvar.exp())\n",
    "#         return mse + kl_div\n"
   ]
  },
  {
   "cell_type": "markdown",
   "id": "16ed0810-7cc2-4f0c-8629-78247a50cdea",
   "metadata": {},
   "source": [
    "# Training loop"
   ]
  },
  {
   "cell_type": "code",
   "execution_count": 101,
   "id": "52d53eca-f925-4b3b-97b1-3a24a162502e",
   "metadata": {},
   "outputs": [],
   "source": [
    "class CalculateThresholdCallback(Callback):\n",
    "    def __init__(self, every_n_epochs, val_loader, proliv_loader):\n",
    "        self.every_n_epochs = every_n_epochs\n",
    "        self.val_loader = val_loader\n",
    "        self.proliv_loader = proliv_loader\n",
    "        \n",
    "    def on_train_epoch_end(self, trainer, pl_module):\n",
    "        if not trainer.current_epoch % self.every_n_epochs == 0:\n",
    "            return\n",
    "\n",
    "        mse_normal = self.calculate_mse_for_loader(pl_module.model, self.val_loader, pl_module.device)\n",
    "        mse_anomaly = self.calculate_mse_for_loader(pl_module.model, self.proliv_loader, pl_module.device)\n",
    "\n",
    "        labels = np.array([0] * len(mse_normal) + [1] * len(mse_anomaly))\n",
    "        mse_values = np.concatenate([mse_normal, mse_anomaly])\n",
    "        fpr, tpr, thresholds = roc_curve(labels, mse_values)\n",
    "        roc_auc = auc(fpr, tpr)\n",
    "        optimal_idx = np.argmax(tpr - fpr)\n",
    "        optimal_threshold = thresholds[optimal_idx]\n",
    "        pl_module.log('roc_auc', roc_auc)\n",
    "        pl_module.log('opt_thresh', optimal_threshold)\n",
    "        pl_module.optimal_threshold = optimal_threshold\n",
    "\n",
    "    @staticmethod\n",
    "    def calculate_mse_for_loader(model, loader, device):\n",
    "        mse_values = []\n",
    "        model.eval()\n",
    "        with torch.no_grad():\n",
    "            for images in loader:\n",
    "                images = images.to(device)\n",
    "                outputs = model(images)\n",
    "                mse = F.huber_loss(outputs, images, reduction='none').mean([1, 2, 3])\n",
    "                mse_values.extend(mse.detach().cpu().numpy())\n",
    "        model.train()\n",
    "        return np.array(mse_values)"
   ]
  },
  {
   "cell_type": "code",
   "execution_count": 102,
   "id": "11c830da-2e84-434b-a0a7-3bccb2b2beec",
   "metadata": {},
   "outputs": [],
   "source": [
    "# не совсем честно, добавил это, чтобы понять причину низкого скора на тесте после успешного обучения\n",
    "class TestAnomalyCallback(Callback):\n",
    "    def __init__(self, every_n_epochs, test_loader):\n",
    "        self.every_n_epochs = every_n_epochs\n",
    "        self.test_loader = test_loader\n",
    "\n",
    "    def on_train_epoch_end(self, trainer, pl_module):\n",
    "        if not trainer.current_epoch % self.every_n_epochs == 0:\n",
    "            return\n",
    "\n",
    "        \n",
    "\n",
    "        all_labels = []\n",
    "        all_preds = []\n",
    "        pl_module.model.eval()\n",
    "        for images, labels in self.test_loader:\n",
    "            with torch.no_grad():\n",
    "                images = images.to(pl_module.device)\n",
    "            outputs = pl_module(images)\n",
    "            mse = F.huber_loss(outputs, images, reduction='none').mean([1, 2, 3])\n",
    "            preds = mse > pl_module.optimal_threshold\n",
    "\n",
    "            all_labels.extend(labels.detach().cpu().numpy())\n",
    "            all_preds.extend(preds.detach().cpu().numpy())\n",
    "\n",
    "        pl_module.model.train()\n",
    "        tn, fp, fn, tp = confusion_matrix(all_labels, all_preds).ravel()\n",
    "        tpr = tp / (tp + fn)\n",
    "        tnr = tn / (tn + fp)\n",
    "\n",
    "        pl_module.log('metrics/tpr', tpr)\n",
    "        pl_module.log('metrics/tnr', tnr)\n",
    "        pl_module.log('metrics/mean', (tpr+tnr)/2)"
   ]
  },
  {
   "cell_type": "code",
   "execution_count": 113,
   "id": "88ea2acd-185f-4d86-8f64-0cef436d12d8",
   "metadata": {},
   "outputs": [],
   "source": [
    "class LModule(L.LightningModule):\n",
    "    def __init__(self, model: nn.Module):\n",
    "        super(LModule, self).__init__()\n",
    "        self.model = model\n",
    "        self.loss = nn.HuberLoss() \n",
    "        self.optimal_threshold = 0\n",
    "\n",
    "    def forward(self, x):\n",
    "        return self.model(x)\n",
    "\n",
    "    def training_step(self, images, batch_idx):\n",
    "        outputs = self.model(images)\n",
    "        loss = self.loss(outputs, images)\n",
    "        self.log('loss/train', loss)\n",
    "        return loss\n",
    "\n",
    "    def validation_step(self, images, batch_idx):\n",
    "        outputs = self.model(images)\n",
    "        loss = self.loss(outputs, images)\n",
    "        \n",
    "        self.log('loss/val', loss)\n",
    "\n",
    "    def configure_optimizers(self):\n",
    "        return torch.optim.AdamW(self.parameters(), lr=3e-5)"
   ]
  },
  {
   "cell_type": "code",
   "execution_count": 115,
   "id": "33710f3f-c0b6-4cc3-971f-5eba5b47924a",
   "metadata": {},
   "outputs": [],
   "source": [
    "every_n_epochs = 5"
   ]
  },
  {
   "cell_type": "code",
   "execution_count": 116,
   "id": "199ecb5a-0261-41dd-86c6-4a5ed154a787",
   "metadata": {},
   "outputs": [],
   "source": [
    "eval_callback = CalculateThresholdCallback(every_n_epochs=every_n_epochs, val_loader=val_loader, proliv_loader=proliv_loader)\n",
    "test_callback = TestAnomalyCallback(every_n_epochs=every_n_epochs, test_loader=test_loader)"
   ]
  },
  {
   "cell_type": "code",
   "execution_count": 117,
   "id": "7b750e02-a1e9-4511-82b1-398a60957751",
   "metadata": {},
   "outputs": [],
   "source": [
    "callbacks = [eval_callback, test_callback]"
   ]
  },
  {
   "cell_type": "code",
   "execution_count": 118,
   "id": "dbe4bc28-ee3a-4954-b797-867778b3e417",
   "metadata": {},
   "outputs": [],
   "source": [
    "max_epochs = 45\n",
    "log_every_n_steps = 100"
   ]
  },
  {
   "cell_type": "code",
   "execution_count": 119,
   "id": "b6147b30-43ba-4255-aea8-a97bc53a3322",
   "metadata": {},
   "outputs": [],
   "source": [
    "model = Autoencoder(GatedEncoder(), Decoder())"
   ]
  },
  {
   "cell_type": "code",
   "execution_count": 120,
   "id": "7ab685d2-5032-4842-a646-ebfe3f2ac0a4",
   "metadata": {
    "scrolled": true
   },
   "outputs": [
    {
     "name": "stderr",
     "output_type": "stream",
     "text": [
      "GPU available: True (cuda), used: True\n",
      "TPU available: False, using: 0 TPU cores\n",
      "IPU available: False, using: 0 IPUs\n",
      "HPU available: False, using: 0 HPUs\n"
     ]
    }
   ],
   "source": [
    "module = LModule(model)\n",
    "trainer = L.Trainer(\n",
    "    callbacks=callbacks,\n",
    "    max_epochs=max_epochs,\n",
    "    log_every_n_steps=log_every_n_steps,\n",
    "    logger=TensorBoardLogger('../logs_hw2', f'gated_huber_loss'),\n",
    ")"
   ]
  },
  {
   "cell_type": "code",
   "execution_count": 121,
   "id": "7eb65493-bcd6-48c8-9924-dca667e15a8b",
   "metadata": {
    "scrolled": true
   },
   "outputs": [
    {
     "name": "stderr",
     "output_type": "stream",
     "text": [
      "Missing logger folder: ../logs_hw2/gated_huber_loss_1_l_2_small_lr\n",
      "LOCAL_RANK: 0 - CUDA_VISIBLE_DEVICES: [3]\n",
      "\n",
      "  | Name  | Type        | Params\n",
      "--------------------------------------\n",
      "0 | model | Autoencoder | 11.9 K\n",
      "1 | loss  | HuberLoss   | 0     \n",
      "--------------------------------------\n",
      "11.9 K    Trainable params\n",
      "0         Non-trainable params\n",
      "11.9 K    Total params\n",
      "0.047     Total estimated model params size (MB)\n"
     ]
    },
    {
     "data": {
      "application/vnd.jupyter.widget-view+json": {
       "model_id": "",
       "version_major": 2,
       "version_minor": 0
      },
      "text/plain": [
       "Sanity Checking: |                                                                                            …"
      ]
     },
     "metadata": {},
     "output_type": "display_data"
    },
    {
     "name": "stderr",
     "output_type": "stream",
     "text": [
      "/home/worker/miniconda3/lib/python3.10/site-packages/lightning/pytorch/loops/fit_loop.py:293: The number of training batches (36) is smaller than the logging interval Trainer(log_every_n_steps=100). Set a lower value for log_every_n_steps if you want to see logs for the training epoch.\n"
     ]
    },
    {
     "data": {
      "application/vnd.jupyter.widget-view+json": {
       "model_id": "84e99860c06c4dddae36bcfdbfd1c234",
       "version_major": 2,
       "version_minor": 0
      },
      "text/plain": [
       "Training: |                                                                                                   …"
      ]
     },
     "metadata": {},
     "output_type": "display_data"
    },
    {
     "data": {
      "application/vnd.jupyter.widget-view+json": {
       "model_id": "",
       "version_major": 2,
       "version_minor": 0
      },
      "text/plain": [
       "Validation: |                                                                                                 …"
      ]
     },
     "metadata": {},
     "output_type": "display_data"
    },
    {
     "data": {
      "application/vnd.jupyter.widget-view+json": {
       "model_id": "",
       "version_major": 2,
       "version_minor": 0
      },
      "text/plain": [
       "Validation: |                                                                                                 …"
      ]
     },
     "metadata": {},
     "output_type": "display_data"
    },
    {
     "data": {
      "application/vnd.jupyter.widget-view+json": {
       "model_id": "",
       "version_major": 2,
       "version_minor": 0
      },
      "text/plain": [
       "Validation: |                                                                                                 …"
      ]
     },
     "metadata": {},
     "output_type": "display_data"
    },
    {
     "data": {
      "application/vnd.jupyter.widget-view+json": {
       "model_id": "",
       "version_major": 2,
       "version_minor": 0
      },
      "text/plain": [
       "Validation: |                                                                                                 …"
      ]
     },
     "metadata": {},
     "output_type": "display_data"
    },
    {
     "data": {
      "application/vnd.jupyter.widget-view+json": {
       "model_id": "",
       "version_major": 2,
       "version_minor": 0
      },
      "text/plain": [
       "Validation: |                                                                                                 …"
      ]
     },
     "metadata": {},
     "output_type": "display_data"
    },
    {
     "data": {
      "application/vnd.jupyter.widget-view+json": {
       "model_id": "",
       "version_major": 2,
       "version_minor": 0
      },
      "text/plain": [
       "Validation: |                                                                                                 …"
      ]
     },
     "metadata": {},
     "output_type": "display_data"
    },
    {
     "data": {
      "application/vnd.jupyter.widget-view+json": {
       "model_id": "",
       "version_major": 2,
       "version_minor": 0
      },
      "text/plain": [
       "Validation: |                                                                                                 …"
      ]
     },
     "metadata": {},
     "output_type": "display_data"
    },
    {
     "data": {
      "application/vnd.jupyter.widget-view+json": {
       "model_id": "",
       "version_major": 2,
       "version_minor": 0
      },
      "text/plain": [
       "Validation: |                                                                                                 …"
      ]
     },
     "metadata": {},
     "output_type": "display_data"
    },
    {
     "data": {
      "application/vnd.jupyter.widget-view+json": {
       "model_id": "",
       "version_major": 2,
       "version_minor": 0
      },
      "text/plain": [
       "Validation: |                                                                                                 …"
      ]
     },
     "metadata": {},
     "output_type": "display_data"
    },
    {
     "data": {
      "application/vnd.jupyter.widget-view+json": {
       "model_id": "",
       "version_major": 2,
       "version_minor": 0
      },
      "text/plain": [
       "Validation: |                                                                                                 …"
      ]
     },
     "metadata": {},
     "output_type": "display_data"
    },
    {
     "data": {
      "application/vnd.jupyter.widget-view+json": {
       "model_id": "",
       "version_major": 2,
       "version_minor": 0
      },
      "text/plain": [
       "Validation: |                                                                                                 …"
      ]
     },
     "metadata": {},
     "output_type": "display_data"
    },
    {
     "data": {
      "application/vnd.jupyter.widget-view+json": {
       "model_id": "",
       "version_major": 2,
       "version_minor": 0
      },
      "text/plain": [
       "Validation: |                                                                                                 …"
      ]
     },
     "metadata": {},
     "output_type": "display_data"
    },
    {
     "data": {
      "application/vnd.jupyter.widget-view+json": {
       "model_id": "",
       "version_major": 2,
       "version_minor": 0
      },
      "text/plain": [
       "Validation: |                                                                                                 …"
      ]
     },
     "metadata": {},
     "output_type": "display_data"
    },
    {
     "data": {
      "application/vnd.jupyter.widget-view+json": {
       "model_id": "",
       "version_major": 2,
       "version_minor": 0
      },
      "text/plain": [
       "Validation: |                                                                                                 …"
      ]
     },
     "metadata": {},
     "output_type": "display_data"
    },
    {
     "data": {
      "application/vnd.jupyter.widget-view+json": {
       "model_id": "",
       "version_major": 2,
       "version_minor": 0
      },
      "text/plain": [
       "Validation: |                                                                                                 …"
      ]
     },
     "metadata": {},
     "output_type": "display_data"
    },
    {
     "data": {
      "application/vnd.jupyter.widget-view+json": {
       "model_id": "",
       "version_major": 2,
       "version_minor": 0
      },
      "text/plain": [
       "Validation: |                                                                                                 …"
      ]
     },
     "metadata": {},
     "output_type": "display_data"
    },
    {
     "data": {
      "application/vnd.jupyter.widget-view+json": {
       "model_id": "",
       "version_major": 2,
       "version_minor": 0
      },
      "text/plain": [
       "Validation: |                                                                                                 …"
      ]
     },
     "metadata": {},
     "output_type": "display_data"
    },
    {
     "data": {
      "application/vnd.jupyter.widget-view+json": {
       "model_id": "",
       "version_major": 2,
       "version_minor": 0
      },
      "text/plain": [
       "Validation: |                                                                                                 …"
      ]
     },
     "metadata": {},
     "output_type": "display_data"
    },
    {
     "data": {
      "application/vnd.jupyter.widget-view+json": {
       "model_id": "",
       "version_major": 2,
       "version_minor": 0
      },
      "text/plain": [
       "Validation: |                                                                                                 …"
      ]
     },
     "metadata": {},
     "output_type": "display_data"
    },
    {
     "data": {
      "application/vnd.jupyter.widget-view+json": {
       "model_id": "",
       "version_major": 2,
       "version_minor": 0
      },
      "text/plain": [
       "Validation: |                                                                                                 …"
      ]
     },
     "metadata": {},
     "output_type": "display_data"
    },
    {
     "data": {
      "application/vnd.jupyter.widget-view+json": {
       "model_id": "",
       "version_major": 2,
       "version_minor": 0
      },
      "text/plain": [
       "Validation: |                                                                                                 …"
      ]
     },
     "metadata": {},
     "output_type": "display_data"
    },
    {
     "data": {
      "application/vnd.jupyter.widget-view+json": {
       "model_id": "",
       "version_major": 2,
       "version_minor": 0
      },
      "text/plain": [
       "Validation: |                                                                                                 …"
      ]
     },
     "metadata": {},
     "output_type": "display_data"
    },
    {
     "data": {
      "application/vnd.jupyter.widget-view+json": {
       "model_id": "",
       "version_major": 2,
       "version_minor": 0
      },
      "text/plain": [
       "Validation: |                                                                                                 …"
      ]
     },
     "metadata": {},
     "output_type": "display_data"
    },
    {
     "data": {
      "application/vnd.jupyter.widget-view+json": {
       "model_id": "",
       "version_major": 2,
       "version_minor": 0
      },
      "text/plain": [
       "Validation: |                                                                                                 …"
      ]
     },
     "metadata": {},
     "output_type": "display_data"
    },
    {
     "data": {
      "application/vnd.jupyter.widget-view+json": {
       "model_id": "",
       "version_major": 2,
       "version_minor": 0
      },
      "text/plain": [
       "Validation: |                                                                                                 …"
      ]
     },
     "metadata": {},
     "output_type": "display_data"
    },
    {
     "data": {
      "application/vnd.jupyter.widget-view+json": {
       "model_id": "",
       "version_major": 2,
       "version_minor": 0
      },
      "text/plain": [
       "Validation: |                                                                                                 …"
      ]
     },
     "metadata": {},
     "output_type": "display_data"
    },
    {
     "data": {
      "application/vnd.jupyter.widget-view+json": {
       "model_id": "",
       "version_major": 2,
       "version_minor": 0
      },
      "text/plain": [
       "Validation: |                                                                                                 …"
      ]
     },
     "metadata": {},
     "output_type": "display_data"
    },
    {
     "data": {
      "application/vnd.jupyter.widget-view+json": {
       "model_id": "",
       "version_major": 2,
       "version_minor": 0
      },
      "text/plain": [
       "Validation: |                                                                                                 …"
      ]
     },
     "metadata": {},
     "output_type": "display_data"
    },
    {
     "data": {
      "application/vnd.jupyter.widget-view+json": {
       "model_id": "",
       "version_major": 2,
       "version_minor": 0
      },
      "text/plain": [
       "Validation: |                                                                                                 …"
      ]
     },
     "metadata": {},
     "output_type": "display_data"
    },
    {
     "data": {
      "application/vnd.jupyter.widget-view+json": {
       "model_id": "",
       "version_major": 2,
       "version_minor": 0
      },
      "text/plain": [
       "Validation: |                                                                                                 …"
      ]
     },
     "metadata": {},
     "output_type": "display_data"
    },
    {
     "data": {
      "application/vnd.jupyter.widget-view+json": {
       "model_id": "",
       "version_major": 2,
       "version_minor": 0
      },
      "text/plain": [
       "Validation: |                                                                                                 …"
      ]
     },
     "metadata": {},
     "output_type": "display_data"
    },
    {
     "data": {
      "application/vnd.jupyter.widget-view+json": {
       "model_id": "",
       "version_major": 2,
       "version_minor": 0
      },
      "text/plain": [
       "Validation: |                                                                                                 …"
      ]
     },
     "metadata": {},
     "output_type": "display_data"
    },
    {
     "data": {
      "application/vnd.jupyter.widget-view+json": {
       "model_id": "",
       "version_major": 2,
       "version_minor": 0
      },
      "text/plain": [
       "Validation: |                                                                                                 …"
      ]
     },
     "metadata": {},
     "output_type": "display_data"
    },
    {
     "data": {
      "application/vnd.jupyter.widget-view+json": {
       "model_id": "",
       "version_major": 2,
       "version_minor": 0
      },
      "text/plain": [
       "Validation: |                                                                                                 …"
      ]
     },
     "metadata": {},
     "output_type": "display_data"
    },
    {
     "data": {
      "application/vnd.jupyter.widget-view+json": {
       "model_id": "",
       "version_major": 2,
       "version_minor": 0
      },
      "text/plain": [
       "Validation: |                                                                                                 …"
      ]
     },
     "metadata": {},
     "output_type": "display_data"
    },
    {
     "data": {
      "application/vnd.jupyter.widget-view+json": {
       "model_id": "",
       "version_major": 2,
       "version_minor": 0
      },
      "text/plain": [
       "Validation: |                                                                                                 …"
      ]
     },
     "metadata": {},
     "output_type": "display_data"
    },
    {
     "data": {
      "application/vnd.jupyter.widget-view+json": {
       "model_id": "",
       "version_major": 2,
       "version_minor": 0
      },
      "text/plain": [
       "Validation: |                                                                                                 …"
      ]
     },
     "metadata": {},
     "output_type": "display_data"
    },
    {
     "data": {
      "application/vnd.jupyter.widget-view+json": {
       "model_id": "",
       "version_major": 2,
       "version_minor": 0
      },
      "text/plain": [
       "Validation: |                                                                                                 …"
      ]
     },
     "metadata": {},
     "output_type": "display_data"
    },
    {
     "data": {
      "application/vnd.jupyter.widget-view+json": {
       "model_id": "",
       "version_major": 2,
       "version_minor": 0
      },
      "text/plain": [
       "Validation: |                                                                                                 …"
      ]
     },
     "metadata": {},
     "output_type": "display_data"
    },
    {
     "data": {
      "application/vnd.jupyter.widget-view+json": {
       "model_id": "",
       "version_major": 2,
       "version_minor": 0
      },
      "text/plain": [
       "Validation: |                                                                                                 …"
      ]
     },
     "metadata": {},
     "output_type": "display_data"
    },
    {
     "data": {
      "application/vnd.jupyter.widget-view+json": {
       "model_id": "",
       "version_major": 2,
       "version_minor": 0
      },
      "text/plain": [
       "Validation: |                                                                                                 …"
      ]
     },
     "metadata": {},
     "output_type": "display_data"
    },
    {
     "name": "stderr",
     "output_type": "stream",
     "text": [
      "/home/worker/miniconda3/lib/python3.10/site-packages/lightning/pytorch/trainer/call.py:54: Detected KeyboardInterrupt, attempting graceful shutdown...\n"
     ]
    }
   ],
   "source": [
    "trainer.fit(module, train_loader, val_dataloaders=val_loader)"
   ]
  },
  {
   "cell_type": "code",
   "execution_count": 122,
   "id": "aee27a72-32d8-4b8f-ba47-418456718f61",
   "metadata": {},
   "outputs": [
    {
     "name": "stdout",
     "output_type": "stream",
     "text": [
      "\n"
     ]
    }
   ],
   "source": [
    "model.to('cpu')\n",
    "model.eval()\n",
    "print()"
   ]
  },
  {
   "cell_type": "code",
   "execution_count": 123,
   "id": "46f0736b-a4d6-425b-a434-f20eed0375d2",
   "metadata": {
    "scrolled": true
   },
   "outputs": [],
   "source": [
    "mse_normal = []\n",
    "for images in val_loader:\n",
    "    with torch.inference_mode():\n",
    "        out = model(images)\n",
    "        mse = F.huber_loss(out, images, reduction='none').mean([1, 2, 3])\n",
    "    mse_normal.extend(mse.detach().cpu().numpy())\n",
    "mse_normal = np.array(mse_normal)"
   ]
  },
  {
   "cell_type": "code",
   "execution_count": 126,
   "id": "e925e13d-31b9-4474-b6c5-bdf80b644f88",
   "metadata": {},
   "outputs": [],
   "source": [
    "mse_anomaly = []\n",
    "for images in proliv_loader:\n",
    "    with torch.inference_mode():\n",
    "        out = model(images)\n",
    "        mse = F.huber_loss(out, images, reduction='none').mean([1, 2, 3])\n",
    "    mse_anomaly.extend(mse.detach().cpu().numpy())\n",
    "mse_anomaly = np.array(mse_anomaly)"
   ]
  },
  {
   "cell_type": "code",
   "execution_count": 128,
   "id": "2b10bdac-6869-4f27-b8d0-89a2e0be9cdb",
   "metadata": {},
   "outputs": [
    {
     "data": {
      "image/png": "[encoded data removed]",
      "text/plain": [
       "<Figure size 1200x500 with 2 Axes>"
      ]
     },
     "metadata": {},
     "output_type": "display_data"
    }
   ],
   "source": [
    "labels = np.array([0] * len(mse_normal) + [1] * len(mse_anomaly))\n",
    "mse_values = np.concatenate([mse_normal, mse_anomaly])\n",
    "fpr, tpr, thresholds = roc_curve(labels, mse_values)\n",
    "roc_auc = auc(fpr, tpr)\n",
    "optimal_idx = np.argmax(tpr - fpr)\n",
    "optimal_threshold = thresholds[optimal_idx]\n",
    "\n",
    "plt.figure(figsize=(12, 5))\n",
    "\n",
    "plt.subplot(1, 2, 1)\n",
    "plt.hist(mse_normal, bins=30, alpha=0.6, color='g', label='Normal')\n",
    "plt.hist(mse_anomaly, bins=30, alpha=0.6, color='r', label='Anomaly')\n",
    "plt.axvline(optimal_threshold, color='b', linestyle='dashed', linewidth=2)\n",
    "plt.title('Распределение ошибок восстановления')\n",
    "plt.xlabel('MSE восстановления')\n",
    "plt.ylabel('Частота')\n",
    "plt.legend()\n",
    "\n",
    "plt.subplot(1, 2, 2)\n",
    "plt.plot(fpr, tpr, color='darkorange', lw=2, label=f'ROC curve (area = {roc_auc:.2f})')\n",
    "plt.plot([0, 1], [0, 1], color='navy', lw=2, linestyle='--')\n",
    "plt.scatter(fpr[optimal_idx], tpr[optimal_idx], color='black')\n",
    "plt.title('ROC-кривая')\n",
    "plt.xlabel('False Positive Rate')\n",
    "plt.ylabel('True Positive Rate')\n",
    "plt.legend()\n",
    "\n",
    "plt.tight_layout()\n",
    "plt.show()"
   ]
  },
  {
   "cell_type": "code",
   "execution_count": 129,
   "id": "4cd2d6b5-2aeb-447c-9cdf-2c4807466fb2",
   "metadata": {},
   "outputs": [
    {
     "data": {
      "text/plain": [
       "0.0023036131"
      ]
     },
     "execution_count": 129,
     "metadata": {},
     "output_type": "execute_result"
    }
   ],
   "source": [
    "optimal_threshold"
   ]
  },
  {
   "cell_type": "code",
   "execution_count": 130,
   "id": "49ed09f5-7a39-4f8a-ac25-2cbdd293de43",
   "metadata": {},
   "outputs": [],
   "source": [
    "test_annotation = open('../data/dataset/test/test_annotation.txt').readlines()"
   ]
  },
  {
   "cell_type": "code",
   "execution_count": 131,
   "id": "6d4a2561-0f16-4a42-b9c5-b09abc4401b3",
   "metadata": {},
   "outputs": [],
   "source": [
    "test_root = '../data/dataset/test/imgs'"
   ]
  },
  {
   "cell_type": "code",
   "execution_count": 132,
   "id": "034a9cd8-01a1-49a7-9679-cf5729f9a685",
   "metadata": {},
   "outputs": [],
   "source": [
    "test_fnames = []\n",
    "gt_labels = []\n",
    "with open('../data/dataset/test/test_annotation.txt', 'r') as f:\n",
    "    for line in f.readlines():\n",
    "        fname, label = line.split()\n",
    "        test_fnames.append(fname)\n",
    "        gt_labels.append(int(label))"
   ]
  },
  {
   "cell_type": "code",
   "execution_count": 133,
   "id": "69369740-a165-456f-8553-ba4b510ef81c",
   "metadata": {},
   "outputs": [],
   "source": [
    "gt_labels = np.array(gt_labels)"
   ]
  },
  {
   "cell_type": "code",
   "execution_count": 134,
   "id": "0ab59add-a638-4107-9b89-1296b9213962",
   "metadata": {},
   "outputs": [],
   "source": [
    "pred_errors = []\n",
    "for fname in test_fnames:\n",
    "    img = Image.open(f\"{test_root}/{fname}\").convert('L')\n",
    "    tensor = val_transforms(img)\n",
    "    with torch.inference_mode():\n",
    "        out = model(tensor.unsqueeze(0))\n",
    "        mse = F.huber_loss(out.squeeze(0), tensor)\n",
    "        pred_errors.append(mse.item())"
   ]
  },
  {
   "cell_type": "code",
   "execution_count": 135,
   "id": "7bafdafe-f5ea-47b2-aae1-6cbedc998955",
   "metadata": {},
   "outputs": [],
   "source": [
    "pred_errors = np.array(pred_errors)"
   ]
  },
  {
   "cell_type": "code",
   "execution_count": 166,
   "id": "dff4f1bb-b9f5-401a-b771-780b24a83172",
   "metadata": {},
   "outputs": [],
   "source": [
    "pred_labels = pred_errors > 0.0022"
   ]
  },
  {
   "cell_type": "code",
   "execution_count": 167,
   "id": "eaede51b-bdc9-4d92-988a-9aba921473b5",
   "metadata": {},
   "outputs": [
    {
     "name": "stdout",
     "output_type": "stream",
     "text": [
      "True Positive Rate (TPR): 0.9845\n",
      "True Negative Rate (TNR): 0.9356\n"
     ]
    }
   ],
   "source": [
    "tn, fp, fn, tp = confusion_matrix(gt_labels, pred_labels).ravel()\n",
    "\n",
    "# Расчет TPR и TNR\n",
    "tpr = tp / (tp + fn)\n",
    "tnr = tn / (tn + fp)\n",
    "\n",
    "print(f\"True Positive Rate (TPR): {tpr:.4f}\")\n",
    "print(f\"True Negative Rate (TNR): {tnr:.4f}\")"
   ]
  },
  {
   "cell_type": "code",
   "execution_count": 138,
   "id": "5ce87a35-8a4c-481e-8b5e-f5c7bf89243d",
   "metadata": {},
   "outputs": [
    {
     "data": {
      "image/png": "[encoded data removed]",
      "text/plain": [
       "<Figure size 800x600 with 1 Axes>"
      ]
     },
     "metadata": {},
     "output_type": "display_data"
    }
   ],
   "source": [
    "thresholds = np.linspace(optimal_threshold * 0.5, optimal_threshold * 1.5, 200)\n",
    "\n",
    "tpr_list = []\n",
    "tnr_list = []\n",
    "\n",
    "for threshold in thresholds:\n",
    "    pred_labels = pred_errors > threshold\n",
    "    tn, fp, fn, tp = confusion_matrix(gt_labels, pred_labels).ravel()\n",
    "    tpr = tp / (tp + fn)\n",
    "    tnr = tn / (tn + fp)\n",
    "    tpr_list.append(tpr)\n",
    "    tnr_list.append(tnr)\n",
    "\n",
    "plt.figure(figsize=(8, 6))\n",
    "plt.plot(tpr_list, tnr_list, marker='o')\n",
    "plt.xlabel('True Positive Rate (TPR)')\n",
    "plt.ylabel('True Negative Rate (TNR)')\n",
    "plt.grid(True)\n",
    "plt.show()"
   ]
  },
  {
   "cell_type": "markdown",
   "metadata": {},
   "source": [
    "### артефакты связаны с недообучением, однако, при большем кол-ве эпох модель не может достичь метрик выше 0.85"
   ]
  },
  {
   "cell_type": "code",
   "execution_count": 155,
   "id": "2ea9edc1-728a-4cff-bd49-215a0e9275c1",
   "metadata": {},
   "outputs": [
    {
     "data": {
      "text/plain": [
       "<matplotlib.image.AxesImage at 0x7fdd0fb86500>"
      ]
     },
     "execution_count": 155,
     "metadata": {},
     "output_type": "execute_result"
    },
    {
     "data": {
      "image/png": "[encoded data removed]",
      "text/plain": [
       "<Figure size 2000x4000 with 2 Axes>"
      ]
     },
     "metadata": {},
     "output_type": "display_data"
    }
   ],
   "source": [
    "fig, axes = plt.subplots(ncols=2, figsize=(20, 40))\n",
    "\n",
    "axes[0].imshow(images.detach().cpu().numpy()[0][0], cmap='gray')\n",
    "axes[1].imshow(out.detach().cpu().numpy()[0][0], cmap='gray')"
   ]
  }
 ],
 "metadata": {
  "kernelspec": {
   "display_name": "Python 3 (ipykernel)",
   "language": "python",
   "name": "python3"
  },
  "language_info": {
   "codemirror_mode": {
    "name": "ipython",
    "version": 3
   },
   "file_extension": ".py",
   "mimetype": "text/x-python",
   "name": "python",
   "nbconvert_exporter": "python",
   "pygments_lexer": "ipython3",
   "version": "3.10.13"
  }
 },
 "nbformat": 4,
 "nbformat_minor": 5
}
